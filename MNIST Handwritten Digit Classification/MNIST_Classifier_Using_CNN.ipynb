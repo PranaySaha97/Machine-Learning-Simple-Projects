{
  "nbformat": 4,
  "nbformat_minor": 0,
  "metadata": {
    "colab": {
      "name": "MNIST Classifier Using CNN.ipynb",
      "provenance": [],
      "collapsed_sections": []
    },
    "kernelspec": {
      "name": "python3",
      "display_name": "Python 3"
    }
  },
  "cells": [
    {
      "cell_type": "markdown",
      "metadata": {
        "id": "r9mIvi_im9H6",
        "colab_type": "text"
      },
      "source": [
        "**MNIST Digit Classification**<br>\n",
        "\n",
        "---\n",
        "\n",
        "\n",
        "Algorithm Used: Convolutional Neural Networks<br>\n",
        "Author: Pranay Saha<br>\n",
        "Date: 20/09/2019"
      ]
    },
    {
      "cell_type": "code",
      "metadata": {
        "id": "qYSlXoCTXt0W",
        "colab_type": "code",
        "colab": {}
      },
      "source": [
        "from keras.datasets import mnist\n",
        "(X_train, y_train), (X_test, y_test) = mnist.load_data()"
      ],
      "execution_count": 0,
      "outputs": []
    },
    {
      "cell_type": "code",
      "metadata": {
        "id": "npNlJ_LOYAJm",
        "colab_type": "code",
        "colab": {
          "base_uri": "https://localhost:8080/",
          "height": 34
        },
        "outputId": "92390922-8848-48f4-a66f-f44fb6d22ade"
      },
      "source": [
        "print(X_train.shape,X_test.shape)"
      ],
      "execution_count": 10,
      "outputs": [
        {
          "output_type": "stream",
          "text": [
            "(60000, 28, 28) (10000, 28, 28)\n"
          ],
          "name": "stdout"
        }
      ]
    },
    {
      "cell_type": "code",
      "metadata": {
        "id": "levZxOXaY56O",
        "colab_type": "code",
        "colab": {
          "base_uri": "https://localhost:8080/",
          "height": 286
        },
        "outputId": "8fcff3f6-635a-46f8-865b-3fa5e7fd6592"
      },
      "source": [
        "import matplotlib.pyplot as plt\n",
        "plt.imshow(X_train[0])"
      ],
      "execution_count": 11,
      "outputs": [
        {
          "output_type": "execute_result",
          "data": {
            "text/plain": [
              "<matplotlib.image.AxesImage at 0x7fe1a7cbd080>"
            ]
          },
          "metadata": {
            "tags": []
          },
          "execution_count": 11
        },
        {
          "output_type": "display_data",
          "data": {
            "image/png": "[encoded data removed]",
            "text/plain": [
              "<Figure size 432x288 with 1 Axes>"
            ]
          },
          "metadata": {
            "tags": []
          }
        }
      ]
    },
    {
      "cell_type": "code",
      "metadata": {
        "id": "IwIPit-mYOqE",
        "colab_type": "code",
        "colab": {}
      },
      "source": [
        "from keras.utils import to_categorical\n",
        "X_train= X_train.reshape(60000,28,28,1)\n",
        "X_test= X_test.reshape(10000,28,28,1)\n",
        "\n",
        "y_train = to_categorical(y_train)\n",
        "y_test = to_categorical(y_test)"
      ],
      "execution_count": 0,
      "outputs": []
    },
    {
      "cell_type": "code",
      "metadata": {
        "id": "MBSSzeWJYhxF",
        "colab_type": "code",
        "colab": {}
      },
      "source": [
        "from keras.models import Sequential\n",
        "from keras.layers import Conv2D, MaxPooling2D, Flatten, Dense, Dropout"
      ],
      "execution_count": 0,
      "outputs": []
    },
    {
      "cell_type": "code",
      "metadata": {
        "id": "tWnD6EfLYwx-",
        "colab_type": "code",
        "colab": {}
      },
      "source": [
        "my_model= Sequential()\n",
        "my_model.add(Conv2D(32, kernel_size= (3,3), input_shape=(28,28,1), activation= 'relu', kernel_initializer='uniform'))\n",
        "my_model.add(MaxPooling2D(pool_size= (2,2)))\n",
        "my_model.add(Conv2D(64, kernel_size= (3,3), input_shape=(28,28,1), activation= 'relu', kernel_initializer='uniform'))\n",
        "my_model.add(MaxPooling2D(pool_size= (2,2)))\n",
        "my_model.add(Flatten())\n",
        "my_model.add(Dense(1000, activation= 'relu', kernel_initializer='uniform'))\n",
        "my_model.add(Dense(10, activation= 'softmax'))\n",
        "# my_model.add(Dropout())"
      ],
      "execution_count": 0,
      "outputs": []
    },
    {
      "cell_type": "code",
      "metadata": {
        "id": "opeCZ3YrZgnB",
        "colab_type": "code",
        "colab": {}
      },
      "source": [
        "from keras.optimizers import SGD\n",
        "my_model.compile(optimizer= SGD(lr=0.01), loss='categorical_crossentropy', metrics=['accuracy'])"
      ],
      "execution_count": 0,
      "outputs": []
    },
    {
      "cell_type": "code",
      "metadata": {
        "id": "RGcHUkp1gNMQ",
        "colab_type": "code",
        "colab": {}
      },
      "source": [
        "X_train = X_train.astype('float32')\n",
        "X_train/=255\n",
        "\n",
        "X_test = X_test.astype('float32')\n",
        "X_test/=255"
      ],
      "execution_count": 0,
      "outputs": []
    },
    {
      "cell_type": "code",
      "metadata": {
        "id": "84mcJhrKbJfs",
        "colab_type": "code",
        "colab": {
          "base_uri": "https://localhost:8080/",
          "height": 391
        },
        "outputId": "61167a47-0a52-4ee1-9972-938b6350c0ff"
      },
      "source": [
        "my_model.fit(X_train, y_train, epochs= 10, validation_data=(X_test, y_test))"
      ],
      "execution_count": 28,
      "outputs": [
        {
          "output_type": "stream",
          "text": [
            "Train on 60000 samples, validate on 10000 samples\n",
            "Epoch 1/10\n",
            "60000/60000 [==============================] - 108s 2ms/step - loss: 0.4889 - acc: 0.8651 - val_loss: 0.1613 - val_acc: 0.9516\n",
            "Epoch 2/10\n",
            "60000/60000 [==============================] - 108s 2ms/step - loss: 0.1465 - acc: 0.9544 - val_loss: 0.1165 - val_acc: 0.9637\n",
            "Epoch 3/10\n",
            "60000/60000 [==============================] - 109s 2ms/step - loss: 0.1020 - acc: 0.9685 - val_loss: 0.0743 - val_acc: 0.9762\n",
            "Epoch 4/10\n",
            "60000/60000 [==============================] - 110s 2ms/step - loss: 0.0798 - acc: 0.9757 - val_loss: 0.0627 - val_acc: 0.9797\n",
            "Epoch 5/10\n",
            "60000/60000 [==============================] - 110s 2ms/step - loss: 0.0679 - acc: 0.9783 - val_loss: 0.0661 - val_acc: 0.9805\n",
            "Epoch 6/10\n",
            "60000/60000 [==============================] - 105s 2ms/step - loss: 0.0598 - acc: 0.9816 - val_loss: 0.0599 - val_acc: 0.9809\n",
            "Epoch 7/10\n",
            "60000/60000 [==============================] - 108s 2ms/step - loss: 0.0525 - acc: 0.9832 - val_loss: 0.0523 - val_acc: 0.9843\n",
            "Epoch 8/10\n",
            "60000/60000 [==============================] - 113s 2ms/step - loss: 0.0455 - acc: 0.9857 - val_loss: 0.0466 - val_acc: 0.9850\n",
            "Epoch 9/10\n",
            "60000/60000 [==============================] - 116s 2ms/step - loss: 0.0410 - acc: 0.9869 - val_loss: 0.0432 - val_acc: 0.9867\n",
            "Epoch 10/10\n",
            "60000/60000 [==============================] - 116s 2ms/step - loss: 0.0369 - acc: 0.9885 - val_loss: 0.0422 - val_acc: 0.9863\n"
          ],
          "name": "stdout"
        },
        {
          "output_type": "execute_result",
          "data": {
            "text/plain": [
              "<keras.callbacks.History at 0x7fe1a1ed4ba8>"
            ]
          },
          "metadata": {
            "tags": []
          },
          "execution_count": 28
        }
      ]
    },
    {
      "cell_type": "code",
      "metadata": {
        "id": "0n45LEzAcclc",
        "colab_type": "code",
        "colab": {
          "base_uri": "https://localhost:8080/",
          "height": 391
        },
        "outputId": "27935ba3-cef1-4e0f-d29c-088173665ecf"
      },
      "source": [
        "my_model.summary()"
      ],
      "execution_count": 29,
      "outputs": [
        {
          "output_type": "stream",
          "text": [
            "Model: \"sequential_5\"\n",
            "_________________________________________________________________\n",
            "Layer (type)                 Output Shape              Param #   \n",
            "=================================================================\n",
            "conv2d_7 (Conv2D)            (None, 26, 26, 32)        320       \n",
            "_________________________________________________________________\n",
            "max_pooling2d_7 (MaxPooling2 (None, 13, 13, 32)        0         \n",
            "_________________________________________________________________\n",
            "conv2d_8 (Conv2D)            (None, 11, 11, 64)        18496     \n",
            "_________________________________________________________________\n",
            "max_pooling2d_8 (MaxPooling2 (None, 5, 5, 64)          0         \n",
            "_________________________________________________________________\n",
            "flatten_4 (Flatten)          (None, 1600)              0         \n",
            "_________________________________________________________________\n",
            "dense_5 (Dense)              (None, 1000)              1601000   \n",
            "_________________________________________________________________\n",
            "dense_6 (Dense)              (None, 10)                10010     \n",
            "=================================================================\n",
            "Total params: 1,629,826\n",
            "Trainable params: 1,629,826\n",
            "Non-trainable params: 0\n",
            "_________________________________________________________________\n"
          ],
          "name": "stdout"
        }
      ]
    },
    {
      "cell_type": "code",
      "metadata": {
        "id": "mqY2Ip-GicYJ",
        "colab_type": "code",
        "colab": {
          "base_uri": "https://localhost:8080/",
          "height": 51
        },
        "outputId": "6d5aae5a-7d2a-4319-c714-b1a84855f68f"
      },
      "source": [
        "score = my_model.evaluate(X_test, y_test, verbose=0)\n",
        "print('Test loss:', score[0])\n",
        "print('Test accuracy:', score[1])"
      ],
      "execution_count": 31,
      "outputs": [
        {
          "output_type": "stream",
          "text": [
            "Test loss: 0.04217444500348065\n",
            "Test accuracy: 0.9863\n"
          ],
          "name": "stdout"
        }
      ]
    },
    {
      "cell_type": "code",
      "metadata": {
        "id": "cbyN4YW-muGu",
        "colab_type": "code",
        "colab": {
          "base_uri": "https://localhost:8080/",
          "height": 238
        },
        "outputId": "fd67268f-afbb-45e1-ab32-aef2e5e15da0"
      },
      "source": [
        "my_model.predict(X_test)"
      ],
      "execution_count": 32,
      "outputs": [
        {
          "output_type": "execute_result",
          "data": {
            "text/plain": [
              "array([[2.2473843e-09, 4.8346571e-08, 1.4080730e-06, ..., 9.9995327e-01,\n",
              "        7.2561397e-09, 3.4571795e-07],\n",
              "       [4.8007598e-07, 1.5316715e-06, 9.9999774e-01, ..., 8.2991882e-14,\n",
              "        2.7230348e-07, 3.5485304e-17],\n",
              "       [5.1547426e-07, 9.9992895e-01, 1.1632527e-05, ..., 3.1812135e-05,\n",
              "        1.3187215e-05, 2.0105206e-07],\n",
              "       ...,\n",
              "       [8.1683818e-12, 3.2127545e-09, 2.2341624e-13, ..., 4.0891468e-08,\n",
              "        1.7126956e-08, 6.6843853e-08],\n",
              "       [2.1001954e-07, 2.2398610e-09, 4.7234296e-11, ..., 1.3126032e-10,\n",
              "        1.6296076e-04, 4.4334725e-10],\n",
              "       [1.1851645e-08, 2.5467461e-11, 9.7980690e-10, ..., 6.5496103e-16,\n",
              "        2.2420229e-08, 1.2811555e-12]], dtype=float32)"
            ]
          },
          "metadata": {
            "tags": []
          },
          "execution_count": 32
        }
      ]
    },
    {
      "cell_type": "code",
      "metadata": {
        "id": "QJw9kZnVm2Iv",
        "colab_type": "code",
        "colab": {}
      },
      "source": [
        ""
      ],
      "execution_count": 0,
      "outputs": []
    }
  ]
}